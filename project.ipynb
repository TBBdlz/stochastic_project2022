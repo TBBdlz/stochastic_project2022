{
 "cells": [
  {
   "cell_type": "code",
   "execution_count": 32,
   "metadata": {},
   "outputs": [],
   "source": [
    "# import essential libraries\n",
    "import scipy as sp\n",
    "import scipy.stats as stats\n",
    "import matplotlib.pyplot as plt\n",
    "from numpy import mean, arange, array\n",
    "from pprint import pprint"
   ]
  },
  {
   "cell_type": "code",
   "execution_count": 12,
   "metadata": {},
   "outputs": [],
   "source": [
    "METEE_STUDENT_ID = 6_330_401_742\n",
    "METAWIN_STUDENT_ID = 6_330_401_734\n",
    "y1: int = METEE_STUDENT_ID % 1000\n",
    "y2: int = METAWIN_STUDENT_ID % 1000\n",
    "x0: int = y1 + y2"
   ]
  },
  {
   "cell_type": "code",
   "execution_count": 10,
   "metadata": {},
   "outputs": [],
   "source": [
    "def get_nth_x(n: int) -> int:\n",
    "\tglobal x0\n",
    "\tif n == 0:\n",
    "\t\treturn x0\n",
    "\telif n >= 1:\n",
    "\t\treturn (112 * get_nth_x(n - 1) % 111) + 2"
   ]
  },
  {
   "cell_type": "code",
   "execution_count": 11,
   "metadata": {},
   "outputs": [
    {
     "data": {
      "text/plain": [
       "(35, 37)"
      ]
     },
     "execution_count": 11,
     "metadata": {},
     "output_type": "execute_result"
    }
   ],
   "source": [
    "# test if function works\n",
    "x1: int = get_nth_x(1)\n",
    "x2: int = get_nth_x(2)\n",
    "x1, x2"
   ]
  },
  {
   "cell_type": "markdown",
   "metadata": {},
   "source": [
    "## 1 Simulation\n",
    "Study binomial random event\n",
    "i.i.d binomial~(N,p)"
   ]
  },
  {
   "cell_type": "code",
   "execution_count": 46,
   "metadata": {},
   "outputs": [
    {
     "name": "stderr",
     "output_type": "stream",
     "text": [
      "<ipython-input-46-e136834f5ee3>:5: DeprecationWarning: scipy.mean is deprecated and will be removed in SciPy 2.0.0, use numpy.mean instead\n",
      "  mean = sp.mean(X)\n"
     ]
    },
    {
     "data": {
      "image/png": "[encoded data removed]",
      "text/plain": [
       "<Figure size 432x288 with 1 Axes>"
      ]
     },
     "metadata": {
      "needs_background": "light"
     },
     "output_type": "display_data"
    }
   ],
   "source": [
    "n: int = 10_000\n",
    "p: float = 0.3\n",
    "N: int = 10\n",
    "X = stats.binom.rvs(N, p, size=n)\n",
    "mean = sp.mean(X)\n",
    "variance = stats.variation(X)\n",
    "pn = mean / N # estimate bernouli parameter p\n",
    "# make step plot\n",
    "plt.hist(X, bins=arange(0, N + 1) - 0.5, density=True, rwidth=0.8)\n",
    "plt.title(\"Histogram of X binomial random variable\")\n",
    "# set x and y labels\n",
    "plt.xlabel(\"X\")\n",
    "plt.ylabel(\"Probability\")\n",
    "plt.show()"
   ]
  },
  {
   "cell_type": "code",
   "execution_count": 47,
   "metadata": {},
   "outputs": [
    {
     "name": "stdout",
     "output_type": "stream",
     "text": [
      "Mean: 2.9968\n",
      "Variance: 0.480719871331895\n",
      "Parameter p: 0.3\n",
      "Estimated p: 0.29968\n"
     ]
    }
   ],
   "source": [
    "print(f\"Mean: {mean}\")\n",
    "print(f\"Variance: {variance}\")\n",
    "print(f\"Parameter p: {p}\")\n",
    "print(f\"Estimated p: {pn}\")"
   ]
  },
  {
   "cell_type": "markdown",
   "metadata": {},
   "source": [
    "### Now we change $$p = 0.31 + \\frac{x_2}{1000}$$"
   ]
  },
  {
   "cell_type": "code",
   "execution_count": 43,
   "metadata": {},
   "outputs": [
    {
     "name": "stderr",
     "output_type": "stream",
     "text": [
      "<ipython-input-43-da8218d054bc>:5: DeprecationWarning: scipy.mean is deprecated and will be removed in SciPy 2.0.0, use numpy.mean instead\n",
      "  mean = sp.mean(X)\n"
     ]
    },
    {
     "data": {
      "image/png": "[encoded data removed]",
      "text/plain": [
       "<Figure size 432x288 with 1 Axes>"
      ]
     },
     "metadata": {
      "needs_background": "light"
     },
     "output_type": "display_data"
    }
   ],
   "source": [
    "n: int = 10_000\n",
    "p: float = 0.31 + x2 / 1000\n",
    "N: int = 10\n",
    "X = stats.binom.rvs(N, p, size=n)\n",
    "mean = mean(X)\n",
    "variance = stats.variation(X)\n",
    "pn = mean / N # estimate bernouli parameter p\n",
    "# make step plot\n",
    "plt.hist(X, bins=arange(0, N + 1) - 0.5, density=True, rwidth=0.8)\n",
    "plt.title(\"Histogram of X binomial random variable\")\n",
    "# set x and y labels\n",
    "plt.xlabel(\"X\")\n",
    "plt.ylabel(\"Probability\")\n",
    "plt.show()"
   ]
  },
  {
   "cell_type": "code",
   "execution_count": 44,
   "metadata": {},
   "outputs": [
    {
     "name": "stdout",
     "output_type": "stream",
     "text": [
      "Mean: 3.4624\n",
      "Variance: 0.4329545363289036\n",
      "Parameter p: 0.347\n",
      "Estimated p: 0.34624\n"
     ]
    }
   ],
   "source": [
    "print(f\"Mean: {mean}\")\n",
    "print(f\"Variance: {variance}\")\n",
    "print(f\"Parameter p: {p}\")\n",
    "print(f\"Estimated p: {pn}\")"
   ]
  }
 ],
 "metadata": {
  "kernelspec": {
   "display_name": "Python 3.9.1 64-bit",
   "language": "python",
   "name": "python3"
  },
  "language_info": {
   "codemirror_mode": {
    "name": "ipython",
    "version": 3
   },
   "file_extension": ".py",
   "mimetype": "text/x-python",
   "name": "python",
   "nbconvert_exporter": "python",
   "pygments_lexer": "ipython3",
   "version": "3.9.1"
  },
  "orig_nbformat": 4,
  "vscode": {
   "interpreter": {
    "hash": "7812ea015bdcee6f23a998adcdd2ef97c151c0c241b7b7070987d9313e41299d"
   }
  }
 },
 "nbformat": 4,
 "nbformat_minor": 2
}
