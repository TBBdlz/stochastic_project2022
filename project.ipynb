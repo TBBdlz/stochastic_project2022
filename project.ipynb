{
 "cells": [
  {
   "cell_type": "code",
   "execution_count": 1,
   "metadata": {},
   "outputs": [],
   "source": [
    "# import essential libraries\n",
    "import scipy as sp\n",
    "import scipy.stats as stats\n",
    "import matplotlib.pyplot as plt\n",
    "import numpy as np\n",
    "from pprint import pprint"
   ]
  },
  {
   "cell_type": "code",
   "execution_count": 2,
   "metadata": {},
   "outputs": [],
   "source": [
    "METEE_STUDENT_ID = 6_330_401_742\n",
    "METAWIN_STUDENT_ID = 6_330_401_734\n",
    "y1: int = METEE_STUDENT_ID % 1000\n",
    "y2: int = METAWIN_STUDENT_ID % 1000\n",
    "x0: int = y1 + y2"
   ]
  },
  {
   "cell_type": "code",
   "execution_count": 3,
   "metadata": {},
   "outputs": [],
   "source": [
    "def get_nth_x(n: int) -> int:\n",
    "\tglobal x0\n",
    "\tif n == 0:\n",
    "\t\treturn x0\n",
    "\telif n >= 1:\n",
    "\t\treturn (112 * get_nth_x(n - 1) % 111) + 2"
   ]
  },
  {
   "cell_type": "code",
   "execution_count": 4,
   "metadata": {},
   "outputs": [
    {
     "data": {
      "text/plain": [
       "(35, 37)"
      ]
     },
     "execution_count": 4,
     "metadata": {},
     "output_type": "execute_result"
    }
   ],
   "source": [
    "# test if function works\n",
    "x1: int = get_nth_x(1)\n",
    "x2: int = get_nth_x(2)\n",
    "x1, x2"
   ]
  },
  {
   "cell_type": "markdown",
   "metadata": {},
   "source": [
    "## 1 Simulation\n",
    "Study binomial random event\n",
    "i.i.d binomial~(N,p)"
   ]
  },
  {
   "cell_type": "code",
   "execution_count": 5,
   "metadata": {},
   "outputs": [
    {
     "data": {
      "image/png": "[encoded data removed]",
      "text/plain": [
       "<Figure size 432x288 with 1 Axes>"
      ]
     },
     "metadata": {
      "needs_background": "light"
     },
     "output_type": "display_data"
    }
   ],
   "source": [
    "n: int = 10_000\n",
    "p: float = 0.3\n",
    "N: int = 10\n",
    "X = stats.binom.rvs(N, p, size=n)\n",
    "mean = np.mean(X)\n",
    "variance = stats.variation(X)\n",
    "pn = mean / N # estimate bernouli parameter p\n",
    "# make step plot\n",
    "plt.hist(X, bins=np.arange(0, N + 1) - 0.5, density=True, rwidth=0.8)\n",
    "plt.title(\"Histogram of X binomial random variable\")\n",
    "# set x and y labels\n",
    "plt.xlabel(\"X\")\n",
    "plt.ylabel(\"Probability\")\n",
    "plt.show()"
   ]
  },
  {
   "cell_type": "code",
   "execution_count": 6,
   "metadata": {},
   "outputs": [
    {
     "name": "stdout",
     "output_type": "stream",
     "text": [
      "Mean: 2.9813\n",
      "Variance: 0.4857226878535756\n",
      "Parameter p: 0.3\n",
      "Estimated p: 0.29813\n"
     ]
    }
   ],
   "source": [
    "print(f\"Mean: {mean}\")\n",
    "print(f\"Variance: {variance}\")\n",
    "print(f\"Parameter p: {p}\")\n",
    "print(f\"Estimated p: {pn}\")"
   ]
  },
  {
   "cell_type": "markdown",
   "metadata": {},
   "source": [
    "### Now we change $$p = 0.31 + \\frac{x_2}{1000}$$"
   ]
  },
  {
   "cell_type": "code",
   "execution_count": 7,
   "metadata": {},
   "outputs": [
    {
     "data": {
      "image/png": "[encoded data removed]",
      "text/plain": [
       "<Figure size 432x288 with 1 Axes>"
      ]
     },
     "metadata": {
      "needs_background": "light"
     },
     "output_type": "display_data"
    }
   ],
   "source": [
    "n: int = 10_000\n",
    "p: float = 0.31 + x2 / 1000\n",
    "N: int = 10\n",
    "X = stats.binom.rvs(N, p, size=n)\n",
    "mean = np.mean(X)\n",
    "variance = stats.variation(X)\n",
    "pn = mean / N # estimate bernouli parameter p\n",
    "# make step plot\n",
    "plt.hist(X, bins=np.arange(0, N + 1) - 0.5, density=True, rwidth=0.8)\n",
    "plt.title(\"Histogram of X binomial random variable\")\n",
    "# set x and y labels\n",
    "plt.xlabel(\"X\")\n",
    "plt.ylabel(\"Probability\")\n",
    "plt.show()"
   ]
  },
  {
   "cell_type": "code",
   "execution_count": 8,
   "metadata": {},
   "outputs": [
    {
     "name": "stdout",
     "output_type": "stream",
     "text": [
      "Mean: 3.4831\n",
      "Variance: 0.43280012518225147\n",
      "Parameter p: 0.347\n",
      "Estimated p: 0.34831\n"
     ]
    }
   ],
   "source": [
    "print(f\"Mean: {mean}\")\n",
    "print(f\"Variance: {variance}\")\n",
    "print(f\"Parameter p: {p}\")\n",
    "print(f\"Estimated p: {pn}\")"
   ]
  }
 ],
 "metadata": {
  "kernelspec": {
   "display_name": "Python 3.9.1 64-bit",
   "language": "python",
   "name": "python3"
  },
  "language_info": {
   "codemirror_mode": {
    "name": "ipython",
    "version": 3
   },
   "file_extension": ".py",
   "mimetype": "text/x-python",
   "name": "python",
   "nbconvert_exporter": "python",
   "pygments_lexer": "ipython3",
   "version": "3.9.1"
  },
  "orig_nbformat": 4,
  "vscode": {
   "interpreter": {
    "hash": "7812ea015bdcee6f23a998adcdd2ef97c151c0c241b7b7070987d9313e41299d"
   }
  }
 },
 "nbformat": 4,
 "nbformat_minor": 2
}
