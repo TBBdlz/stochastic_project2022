{
 "cells": [
  {
   "cell_type": "markdown",
   "metadata": {},
   "source": [
    "# Stochastic Process and Modeling Project\n",
    "Project members are\n",
    "1. Metawin Sumethiwit 633040173-4\n",
    "2. Metee Yingyongwatthanakit 633040174-2"
   ]
  },
  {
   "cell_type": "code",
   "execution_count": null,
   "metadata": {},
   "outputs": [],
   "source": [
    "# import essential libraries\n",
    "import scipy as sp\n",
    "import scipy.stats as stats\n",
    "import seaborn as sns\n",
    "import matplotlib.pyplot as plt\n",
    "import numpy as np\n",
    "from pprint import pprint\n",
    "sns.set_theme(style=\"whitegrid\")"
   ]
  },
  {
   "cell_type": "code",
   "execution_count": null,
   "metadata": {},
   "outputs": [],
   "source": [
    "METEE_STUDENT_ID = 6_330_401_742\n",
    "METAWIN_STUDENT_ID = 6_330_401_734\n",
    "y1: int = METEE_STUDENT_ID % 1000\n",
    "y2: int = METAWIN_STUDENT_ID % 1000\n",
    "x0: int = y1 + y2\n",
    "n = 10_000\n",
    "N = 10"
   ]
  },
  {
   "cell_type": "code",
   "execution_count": null,
   "metadata": {},
   "outputs": [],
   "source": [
    "def get_nth_x(n: int) -> int:\n",
    "\tglobal x0\n",
    "\tif n == 0:\n",
    "\t\treturn x0\n",
    "\telif n >= 1:\n",
    "\t\treturn (112 * get_nth_x(n - 1) % 111) + 2"
   ]
  },
  {
   "cell_type": "code",
   "execution_count": null,
   "metadata": {},
   "outputs": [],
   "source": [
    "def display_statistical_values(p: float, pn: float, mean: float, variance: float) -> None:\n",
    "\tglobal N\n",
    "\tprint(f\"X binomial({N}, {p})\")\n",
    "\tprint(f\"Mean: {mean}\")\n",
    "\tprint(f\"Variance: {variance}\")\n",
    "\tprint(f\"Parameter p: {p}\")\n",
    "\tprint(f\"Estimated p: {pn}\")"
   ]
  },
  {
   "cell_type": "code",
   "execution_count": null,
   "metadata": {},
   "outputs": [],
   "source": [
    "def plot_histogram(p: float, data_set: np.array, plot_den: bool = False) -> None:\n",
    "\tglobal n, N\n",
    "\tX = stats.binom.rvs(N, p, size=n)\n",
    "\t# make step plot\n",
    "\tplt.hist(X, bins=np.arange(0, N + 1) - 0.5, density=plot_den, rwidth=0.8)\n",
    "\tplt.title(\"Histogram of X binomial random variable\")\n",
    "\t# set x and y labels\n",
    "\tplt.xlabel(\"X\")\n",
    "\tplt.ylabel(\"Frequency\")\n",
    "\tplt.show()"
   ]
  },
  {
   "cell_type": "code",
   "execution_count": null,
   "metadata": {},
   "outputs": [],
   "source": [
    "def get_statistical_values(data_set: np.array) -> tuple:\n",
    "\tmean = np.mean(data_set)\n",
    "\tvariance = stats.variation(data_set)\n",
    "\tpn = mean / N # estimate bernouli parameter p\n",
    "\treturn mean, variance, pn"
   ]
  },
  {
   "cell_type": "code",
   "execution_count": null,
   "metadata": {},
   "outputs": [],
   "source": [
    "# test if function works\n",
    "x1: int = get_nth_x(1)\n",
    "x2: int = get_nth_x(2)\n",
    "x1, x2"
   ]
  },
  {
   "cell_type": "markdown",
   "metadata": {},
   "source": [
    "## 1 Simulation\n",
    "Study binomial random event\n",
    "i.i.d binomial~(N,p)"
   ]
  },
  {
   "cell_type": "code",
   "execution_count": null,
   "metadata": {},
   "outputs": [],
   "source": [
    "p: float = 0.3\n",
    "X = stats.binom.rvs(N, p, size=n)\n",
    "mean, variance, pn = get_statistical_values(X)\n",
    "plot_histogram(p, X)"
   ]
  },
  {
   "cell_type": "code",
   "execution_count": null,
   "metadata": {},
   "outputs": [],
   "source": [
    "display_statistical_values(p, pn, mean, variance)"
   ]
  },
  {
   "cell_type": "markdown",
   "metadata": {},
   "source": [
    "### Now we change $$p = 0.31 + \\frac{x_2}{1000}$$"
   ]
  },
  {
   "cell_type": "code",
   "execution_count": null,
   "metadata": {},
   "outputs": [],
   "source": [
    "p: float = 0.31 + x2 / 1000\n",
    "X = stats.binom.rvs(N, p, size=n)\n",
    "mean, variance, pn = get_statistical_values(X)\n",
    "plot_histogram(p, X)"
   ]
  },
  {
   "cell_type": "code",
   "execution_count": null,
   "metadata": {},
   "outputs": [],
   "source": [
    "display_statistical_values(p, pn, mean, variance)"
   ]
  },
  {
   "cell_type": "markdown",
   "metadata": {},
   "source": [
    "### We'll compare $p=0.3$ and $p=0.31+\\frac{x_2}{1000}$ graphs together"
   ]
  },
  {
   "cell_type": "code",
   "execution_count": null,
   "metadata": {},
   "outputs": [],
   "source": [
    "p: float = 0.3\n",
    "X = stats.binom.rvs(N, p, size=n)\n",
    "mean, variance, pn = get_statistical_values(X)\n",
    "# make step plot\n",
    "fig, ax = plt.subplots(2)\n",
    "fig.tight_layout(pad=2)\n",
    "# set fig size\n",
    "fig.set_size_inches(8, 8)\n",
    "counts, bins = np.histogram(X, bins=np.arange(0, N + 1) - 0.5)\n",
    "ax[0].hist(bins[:-1], bins, weights=counts)\n",
    "# set x and y labels\n",
    "ax[0].set_xlabel(\"X\")\n",
    "ax[0].set_ylabel(\"Frequency\")\n",
    "# print statisticical values\n",
    "display_statistical_values(p, pn, mean, variance)\n",
    "print(\"----------------------------\")\n",
    "p2: float = 0.31 + x2 / 1000\n",
    "X2 = stats.binom.rvs(N, p2, size=n)\n",
    "mean2, variance2, pn2 = get_statistical_values(X2)\n",
    "counts2, bins2 = np.histogram(X2, bins=np.arange(0, N + 1) - 0.5)\n",
    "ax[1].hist(bins2[:-1], bins2, weights=counts2)\n",
    "ax[1].set_title(f\"Histogram of X binomial({N}, {p2})\")\n",
    "# set x and y labels\n",
    "ax[1].set_xlabel(\"X\")\n",
    "ax[1].set_ylabel(\"Frequency\")\n",
    "\n",
    "# set titles\n",
    "ax[1].set_title(f\"Histogram of X binomial({N}, {p2})\")\n",
    "ax[0].set_title(f\"Histogram of X binomial({N}, {p})\")\n",
    "\n",
    "# print statisticical values\n",
    "display_statistical_values(p2, pn2, mean2, variance2)"
   ]
  },
  {
   "cell_type": "markdown",
   "metadata": {},
   "source": [
    "# 2 Validate whether Binomail~(N, pn) is a good fit to the data, X"
   ]
  },
  {
   "cell_type": "code",
   "execution_count": null,
   "metadata": {},
   "outputs": [],
   "source": [
    "# np.array of binomial random variable; X2 Binomial~(N,pn) from previous analysis\n",
    "X2"
   ]
  },
  {
   "cell_type": "code",
   "execution_count": null,
   "metadata": {},
   "outputs": [],
   "source": [
    "counts2"
   ]
  },
  {
   "cell_type": "code",
   "execution_count": null,
   "metadata": {},
   "outputs": [],
   "source": [
    "H_data = n * stats.binom.pmf(np.arange(10), N, p2)\n",
    "H_data"
   ]
  },
  {
   "cell_type": "code",
   "execution_count": null,
   "metadata": {},
   "outputs": [],
   "source": [
    "# compute a statistic Z\n",
    "Z: float = np.sum(np.power((counts2 - H_data), 2) / (H_data))\n",
    "Z"
   ]
  },
  {
   "cell_type": "code",
   "execution_count": null,
   "metadata": {},
   "outputs": [],
   "source": [
    "# calculate Z_alp choose alpha = 0.05\n",
    "k: int = 1\n",
    "Z_alp: float = stats.chi2.ppf(0.95, N - 1 - k)\n",
    "Z_alp"
   ]
  },
  {
   "cell_type": "code",
   "execution_count": null,
   "metadata": {},
   "outputs": [],
   "source": [
    "# chi square test\n",
    "if Z < Z_alp:\n",
    "\tprint(\"H0 is accepted\")\n",
    "else:\n",
    "\tprint(\"H0 is rejected\")"
   ]
  },
  {
   "cell_type": "markdown",
   "metadata": {},
   "source": [
    "# 3 Confidence interval for the mean\n"
   ]
  },
  {
   "cell_type": "code",
   "execution_count": null,
   "metadata": {},
   "outputs": [],
   "source": [
    "Sn = X.std #Compute a sample standard deviation\n",
    "Sn"
   ]
  },
  {
   "cell_type": "code",
   "execution_count": null,
   "metadata": {},
   "outputs": [],
   "source": [
    "\n",
    "import random\n",
    "\n",
    "#N = 10\n",
    "V = N-1\n",
    "T = random('t',V)\n",
    "alp = 0.10\n",
    "y_alp_2 = T.cum_distribution_function_inv(1-alp/2)\n",
    "print(\"y_alp_2=\",y_alp_2.n(digits=4))\n"
   ]
  }
 ],
 "metadata": {
  "kernelspec": {
   "display_name": "Python 3.10.4 64-bit",
   "language": "python",
   "name": "python3"
  },
  "language_info": {
   "codemirror_mode": {
    "name": "ipython",
    "version": 3
   },
   "file_extension": ".py",
   "mimetype": "text/x-python",
   "name": "python",
   "nbconvert_exporter": "python",
   "pygments_lexer": "ipython3",
   "version": "3.10.4"
  },
  "orig_nbformat": 4,
  "vscode": {
   "interpreter": {
    "hash": "31671a60cee805c34c73116577b485118ff3a75c458d3004d49632c19702ac60"
   }
  }
 },
 "nbformat": 4,
 "nbformat_minor": 2
}
